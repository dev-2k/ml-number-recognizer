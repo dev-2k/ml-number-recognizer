{
  "nbformat": 4,
  "nbformat_minor": 0,
  "metadata": {
    "colab": {
      "name": "Copy of num_reader.ipynb",
      "provenance": [],
      "mount_file_id": "1QY6h3KXiFJKKiI6ChO7wgatiL-iihals",
      "authorship_tag": "ABX9TyO+jiTo+fVDAB3il8nVigvd",
      "include_colab_link": true
    },
    "kernelspec": {
      "name": "python3",
      "display_name": "Python 3"
    },
    "language_info": {
      "name": "python"
    },
    "accelerator": "TPU"
  },
  "cells": [
    {
      "cell_type": "markdown",
      "metadata": {
        "id": "view-in-github",
        "colab_type": "text"
      },
      "source": [
        "<a href=\"https://colab.research.google.com/github/dev-2k/ml-number-recognizer/blob/main/Copy_of_num_reader.ipynb\" target=\"_parent\"><img src=\"https://colab.research.google.com/assets/colab-badge.svg\" alt=\"Open In Colab\"/></a>"
      ]
    },
    {
      "cell_type": "code",
      "metadata": {
        "colab": {
          "base_uri": "https://localhost:8080/"
        },
        "id": "5cLLD1YUNCo9",
        "outputId": "2164801d-fecd-4e0b-a2d8-be385b2cb855"
      },
      "source": [
        "import tensorflow as tf\n",
        "\n",
        "print(tf.__version__)"
      ],
      "execution_count": null,
      "outputs": [
        {
          "output_type": "stream",
          "text": [
            "2.5.0\n"
          ],
          "name": "stdout"
        }
      ]
    },
    {
      "cell_type": "code",
      "metadata": {
        "id": "alXoVfZDNKc7"
      },
      "source": [
        "import tensorflow.keras as keras"
      ],
      "execution_count": null,
      "outputs": []
    },
    {
      "cell_type": "code",
      "metadata": {
        "colab": {
          "base_uri": "https://localhost:8080/"
        },
        "id": "IvYhfrGhNUft",
        "outputId": "3f953d0f-ecde-45f6-964f-baa3862ac02b"
      },
      "source": [
        "mnist = tf.keras.datasets.mnist  # mnist is a dataset of 28x28 images of handwritten digits and their labels\n",
        "(x_train, y_train),(x_test, y_test) = mnist.load_data()"
      ],
      "execution_count": null,
      "outputs": [
        {
          "output_type": "stream",
          "text": [
            "Downloading data from https://storage.googleapis.com/tensorflow/tf-keras-datasets/mnist.npz\n",
            "11493376/11490434 [==============================] - 0s 0us/step\n"
          ],
          "name": "stdout"
        }
      ]
    },
    {
      "cell_type": "code",
      "metadata": {
        "id": "BsJWCC-kNlTm"
      },
      "source": [
        "x_train = tf.keras.utils.normalize(x_train, axis=1)  # scales data between 0 and 1\n",
        "x_test = tf.keras.utils.normalize(x_test, axis=1)  # scales data between 0 and 1"
      ],
      "execution_count": null,
      "outputs": []
    },
    {
      "cell_type": "code",
      "metadata": {
        "id": "O4R4VPKyNrnD"
      },
      "source": [
        "model = tf.keras.models.Sequential()  # a basic feed-forward model\n",
        "model.add(tf.keras.layers.Flatten())  # takes our 28x28 and makes it 1x784\n",
        "model.add(tf.keras.layers.Dense(128, activation=tf.nn.relu))  # a simple fully-connected layer, 128 units, relu activation\n",
        "model.add(tf.keras.layers.Dense(128, activation=tf.nn.relu))  # a simple fully-connected layer, 128 units, relu activation\n",
        "model.add(tf.keras.layers.Dense(10, activation=tf.nn.softmax))  # our output layer. 10 units for 10 classes. Softmax for probability distribution"
      ],
      "execution_count": null,
      "outputs": []
    },
    {
      "cell_type": "code",
      "metadata": {
        "id": "dV3KY0MhN2BO"
      },
      "source": [
        "model.compile(optimizer='adam',  # Good default optimizer to start with\n",
        "              loss='sparse_categorical_crossentropy',  # how will we calculate our \"error.\" Neural network aims to minimize loss.\n",
        "              metrics=['accuracy'])  "
      ],
      "execution_count": null,
      "outputs": []
    },
    {
      "cell_type": "code",
      "metadata": {
        "colab": {
          "base_uri": "https://localhost:8080/"
        },
        "id": "F0apx5waN6yD",
        "outputId": "e89f6852-5db4-4936-be80-9e6958db8ac6"
      },
      "source": [
        "model.fit(x_train, y_train, epochs=50) "
      ],
      "execution_count": null,
      "outputs": [
        {
          "output_type": "stream",
          "text": [
            "Epoch 1/50\n",
            "1875/1875 [==============================] - 6s 3ms/step - loss: 0.2687 - accuracy: 0.9213\n",
            "Epoch 2/50\n",
            "1875/1875 [==============================] - 5s 3ms/step - loss: 0.1109 - accuracy: 0.9656\n",
            "Epoch 3/50\n",
            "1875/1875 [==============================] - 6s 3ms/step - loss: 0.0738 - accuracy: 0.9770\n",
            "Epoch 4/50\n",
            "1875/1875 [==============================] - 6s 3ms/step - loss: 0.0551 - accuracy: 0.9821\n",
            "Epoch 5/50\n",
            "1875/1875 [==============================] - 5s 3ms/step - loss: 0.0414 - accuracy: 0.9865\n",
            "Epoch 6/50\n",
            "1875/1875 [==============================] - 5s 3ms/step - loss: 0.0326 - accuracy: 0.9892\n",
            "Epoch 7/50\n",
            "1875/1875 [==============================] - 5s 3ms/step - loss: 0.0257 - accuracy: 0.9916\n",
            "Epoch 8/50\n",
            "1875/1875 [==============================] - 5s 3ms/step - loss: 0.0217 - accuracy: 0.9925\n",
            "Epoch 9/50\n",
            "1875/1875 [==============================] - 5s 3ms/step - loss: 0.0185 - accuracy: 0.9937\n",
            "Epoch 10/50\n",
            "1875/1875 [==============================] - 5s 3ms/step - loss: 0.0166 - accuracy: 0.9940\n",
            "Epoch 11/50\n",
            "1875/1875 [==============================] - 5s 3ms/step - loss: 0.0133 - accuracy: 0.9950\n",
            "Epoch 12/50\n",
            "1875/1875 [==============================] - 5s 3ms/step - loss: 0.0124 - accuracy: 0.9957\n",
            "Epoch 13/50\n",
            "1875/1875 [==============================] - 5s 3ms/step - loss: 0.0118 - accuracy: 0.9959\n",
            "Epoch 14/50\n",
            "1875/1875 [==============================] - 5s 3ms/step - loss: 0.0103 - accuracy: 0.9964\n",
            "Epoch 15/50\n",
            "1875/1875 [==============================] - 5s 3ms/step - loss: 0.0096 - accuracy: 0.9966\n",
            "Epoch 16/50\n",
            "1875/1875 [==============================] - 5s 3ms/step - loss: 0.0097 - accuracy: 0.9967\n",
            "Epoch 17/50\n",
            "1875/1875 [==============================] - 5s 3ms/step - loss: 0.0086 - accuracy: 0.9971\n",
            "Epoch 18/50\n",
            "1875/1875 [==============================] - 5s 3ms/step - loss: 0.0079 - accuracy: 0.9974\n",
            "Epoch 19/50\n",
            "1875/1875 [==============================] - 5s 3ms/step - loss: 0.0088 - accuracy: 0.9972\n",
            "Epoch 20/50\n",
            "1875/1875 [==============================] - 5s 3ms/step - loss: 0.0075 - accuracy: 0.9974\n",
            "Epoch 21/50\n",
            "1875/1875 [==============================] - 5s 3ms/step - loss: 0.0066 - accuracy: 0.9978\n",
            "Epoch 22/50\n",
            "1875/1875 [==============================] - 5s 3ms/step - loss: 0.0061 - accuracy: 0.9981\n",
            "Epoch 23/50\n",
            "1875/1875 [==============================] - 5s 3ms/step - loss: 0.0087 - accuracy: 0.9970\n",
            "Epoch 24/50\n",
            "1875/1875 [==============================] - 5s 3ms/step - loss: 0.0059 - accuracy: 0.9980\n",
            "Epoch 25/50\n",
            "1875/1875 [==============================] - 5s 3ms/step - loss: 0.0047 - accuracy: 0.9984\n",
            "Epoch 26/50\n",
            "1875/1875 [==============================] - 5s 3ms/step - loss: 0.0075 - accuracy: 0.9976\n",
            "Epoch 27/50\n",
            "1875/1875 [==============================] - 5s 3ms/step - loss: 0.0079 - accuracy: 0.9974\n",
            "Epoch 28/50\n",
            "1875/1875 [==============================] - 5s 3ms/step - loss: 0.0078 - accuracy: 0.9976\n",
            "Epoch 29/50\n",
            "1875/1875 [==============================] - 5s 3ms/step - loss: 0.0044 - accuracy: 0.9988\n",
            "Epoch 30/50\n",
            "1875/1875 [==============================] - 5s 3ms/step - loss: 0.0072 - accuracy: 0.9977\n",
            "Epoch 31/50\n",
            "1875/1875 [==============================] - 5s 3ms/step - loss: 0.0053 - accuracy: 0.9983\n",
            "Epoch 32/50\n",
            "1875/1875 [==============================] - 5s 3ms/step - loss: 0.0064 - accuracy: 0.9982\n",
            "Epoch 33/50\n",
            "1875/1875 [==============================] - 5s 3ms/step - loss: 0.0046 - accuracy: 0.9987\n",
            "Epoch 34/50\n",
            "1875/1875 [==============================] - 5s 3ms/step - loss: 0.0058 - accuracy: 0.9982\n",
            "Epoch 35/50\n",
            "1875/1875 [==============================] - 5s 3ms/step - loss: 0.0063 - accuracy: 0.9983\n",
            "Epoch 36/50\n",
            "1875/1875 [==============================] - 5s 3ms/step - loss: 0.0055 - accuracy: 0.9984\n",
            "Epoch 37/50\n",
            "1875/1875 [==============================] - 5s 3ms/step - loss: 0.0040 - accuracy: 0.9987\n",
            "Epoch 38/50\n",
            "1875/1875 [==============================] - 5s 3ms/step - loss: 0.0066 - accuracy: 0.9979\n",
            "Epoch 39/50\n",
            "1875/1875 [==============================] - 5s 3ms/step - loss: 0.0047 - accuracy: 0.9984\n",
            "Epoch 40/50\n",
            "1875/1875 [==============================] - 5s 3ms/step - loss: 0.0052 - accuracy: 0.9983\n",
            "Epoch 41/50\n",
            "1875/1875 [==============================] - 5s 3ms/step - loss: 0.0051 - accuracy: 0.9985\n",
            "Epoch 42/50\n",
            "1875/1875 [==============================] - 5s 3ms/step - loss: 0.0029 - accuracy: 0.9991\n",
            "Epoch 43/50\n",
            "1875/1875 [==============================] - 5s 2ms/step - loss: 0.0047 - accuracy: 0.9985\n",
            "Epoch 44/50\n",
            "1875/1875 [==============================] - 5s 2ms/step - loss: 0.0060 - accuracy: 0.9984\n",
            "Epoch 45/50\n",
            "1875/1875 [==============================] - 5s 2ms/step - loss: 0.0057 - accuracy: 0.9985\n",
            "Epoch 46/50\n",
            "1875/1875 [==============================] - 5s 3ms/step - loss: 0.0037 - accuracy: 0.9988\n",
            "Epoch 47/50\n",
            "1875/1875 [==============================] - 5s 3ms/step - loss: 0.0043 - accuracy: 0.9989\n",
            "Epoch 48/50\n",
            "1875/1875 [==============================] - 5s 3ms/step - loss: 0.0053 - accuracy: 0.9984\n",
            "Epoch 49/50\n",
            "1875/1875 [==============================] - 5s 3ms/step - loss: 0.0041 - accuracy: 0.9989\n",
            "Epoch 50/50\n",
            "1875/1875 [==============================] - 5s 3ms/step - loss: 0.0064 - accuracy: 0.9984\n"
          ],
          "name": "stdout"
        },
        {
          "output_type": "execute_result",
          "data": {
            "text/plain": [
              "<tensorflow.python.keras.callbacks.History at 0x7ff012820e90>"
            ]
          },
          "metadata": {
            "tags": []
          },
          "execution_count": 13
        }
      ]
    },
    {
      "cell_type": "code",
      "metadata": {
        "colab": {
          "base_uri": "https://localhost:8080/"
        },
        "id": "KY0GFyNrN--5",
        "outputId": "a1163472-b192-4a8e-edb7-6a8b6be50f7f"
      },
      "source": [
        "val_loss, val_acc = model.evaluate(x_test, y_test)  # evaluate the out of sample data with model\n",
        "print(val_loss)  # model's loss (error)\n",
        "print(val_acc)"
      ],
      "execution_count": null,
      "outputs": [
        {
          "output_type": "stream",
          "text": [
            "313/313 [==============================] - 1s 1ms/step - loss: 0.2022 - accuracy: 0.9767\n",
            "0.20219473540782928\n",
            "0.9767000079154968\n"
          ],
          "name": "stdout"
        }
      ]
    },
    {
      "cell_type": "code",
      "metadata": {
        "colab": {
          "base_uri": "https://localhost:8080/"
        },
        "id": "5NxQuFZPPuAH",
        "outputId": "343b8bfd-745d-48ea-87bc-2507449da5b8"
      },
      "source": [
        "model.save('epic_num_reader.model')"
      ],
      "execution_count": null,
      "outputs": [
        {
          "output_type": "stream",
          "text": [
            "INFO:tensorflow:Assets written to: epic_num_reader.model/assets\n"
          ],
          "name": "stdout"
        }
      ]
    },
    {
      "cell_type": "code",
      "metadata": {
        "id": "og5qairSP2gr"
      },
      "source": [
        "new_model = tf.keras.models.load_model('epic_num_reader.model')"
      ],
      "execution_count": null,
      "outputs": []
    },
    {
      "cell_type": "code",
      "metadata": {
        "id": "t10ESfTcP9Ru"
      },
      "source": [
        "predictions = new_model.predict(x_test)"
      ],
      "execution_count": null,
      "outputs": []
    },
    {
      "cell_type": "code",
      "metadata": {
        "colab": {
          "base_uri": "https://localhost:8080/"
        },
        "id": "DMATQ2R0QSef",
        "outputId": "de543bb8-eb24-437a-e42a-85d990231520"
      },
      "source": [
        "print(predictions)\n"
      ],
      "execution_count": null,
      "outputs": [
        {
          "output_type": "stream",
          "text": [
            "[[1.7234929e-31 7.1677025e-23 5.0917132e-20 ... 1.0000000e+00\n",
            "  9.9644562e-34 2.8946271e-27]\n",
            " [0.0000000e+00 2.6701067e-19 1.0000000e+00 ... 0.0000000e+00\n",
            "  5.7126970e-37 0.0000000e+00]\n",
            " [2.2448416e-24 1.0000000e+00 1.7444298e-21 ... 4.0277331e-15\n",
            "  1.9533319e-15 2.6015710e-23]\n",
            " ...\n",
            " [0.0000000e+00 2.7179999e-24 6.8300226e-33 ... 1.9506557e-18\n",
            "  8.3935223e-23 1.8176640e-17]\n",
            " [3.2368118e-27 5.4228799e-32 8.8249016e-31 ... 1.6129646e-21\n",
            "  1.3599300e-13 6.0982973e-31]\n",
            " [2.1532764e-30 2.4267742e-29 1.7032034e-26 ... 0.0000000e+00\n",
            "  7.9898649e-24 0.0000000e+00]]\n"
          ],
          "name": "stdout"
        }
      ]
    },
    {
      "cell_type": "code",
      "metadata": {
        "colab": {
          "base_uri": "https://localhost:8080/"
        },
        "id": "0yitBjexQYT0",
        "outputId": "24c0c1fc-bb9a-4d5e-89da-8e77c83fe125"
      },
      "source": [
        "import numpy as np\n",
        "print(np.argmax(predictions[0]))\n"
      ],
      "execution_count": null,
      "outputs": [
        {
          "output_type": "stream",
          "text": [
            "7\n"
          ],
          "name": "stdout"
        }
      ]
    },
    {
      "cell_type": "code",
      "metadata": {
        "colab": {
          "base_uri": "https://localhost:8080/",
          "height": 265
        },
        "id": "wmQD5yqGQobW",
        "outputId": "8c46bdb2-e50e-48ec-bb1c-6c7039ce87d6"
      },
      "source": [
        "import matplotlib.pyplot as plt\n",
        "plt.imshow(x_test[0],cmap=plt.cm.binary)\n",
        "plt.show()"
      ],
      "execution_count": null,
      "outputs": [
        {
          "output_type": "display_data",
          "data": {
            "image/png": "[encoded data removed]",
            "text/plain": [
              "<Figure size 432x288 with 1 Axes>"
            ]
          },
          "metadata": {
            "tags": [],
            "needs_background": "light"
          }
        }
      ]
    },
    {
      "cell_type": "code",
      "metadata": {
        "colab": {
          "base_uri": "https://localhost:8080/",
          "height": 282
        },
        "id": "TCqcDc2BQwho",
        "outputId": "4a7cf54f-442d-4a3a-da69-8e91d61274df"
      },
      "source": [
        "print(np.argmax(predictions[1]))\n",
        "plt.imshow(x_test[1],cmap=plt.cm.binary)\n",
        "plt.show()"
      ],
      "execution_count": null,
      "outputs": [
        {
          "output_type": "stream",
          "text": [
            "2\n"
          ],
          "name": "stdout"
        },
        {
          "output_type": "display_data",
          "data": {
            "image/png": "[encoded data removed]",
            "text/plain": [
              "<Figure size 432x288 with 1 Axes>"
            ]
          },
          "metadata": {
            "tags": [],
            "needs_background": "light"
          }
        }
      ]
    },
    {
      "cell_type": "code",
      "metadata": {
        "colab": {
          "base_uri": "https://localhost:8080/"
        },
        "id": "GN8RV4hIQ_if",
        "outputId": "9348f5b5-32c0-4507-b9d7-b019d44aa9e2"
      },
      "source": [
        "!ls {/sample_data}"
      ],
      "execution_count": null,
      "outputs": [
        {
          "output_type": "stream",
          "text": [
            "ls: cannot access '{/sample_data}': No such file or directory\n"
          ],
          "name": "stdout"
        }
      ]
    },
    {
      "cell_type": "code",
      "metadata": {
        "id": "VqtsMlDlRk6F"
      },
      "source": [
        ""
      ],
      "execution_count": null,
      "outputs": []
    },
    {
      "cell_type": "code",
      "metadata": {
        "id": "GcOBHHMiRyNl"
      },
      "source": [
        ""
      ],
      "execution_count": null,
      "outputs": []
    },
    {
      "cell_type": "code",
      "metadata": {
        "id": "hu88ee7kSDoZ"
      },
      "source": [
        ""
      ],
      "execution_count": null,
      "outputs": []
    }
  ]
}